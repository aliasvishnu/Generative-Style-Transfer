{
 "cells": [
  {
   "cell_type": "code",
   "execution_count": 1,
   "metadata": {
    "collapsed": false
   },
   "outputs": [
    {
     "name": "stderr",
     "output_type": "stream",
     "text": [
      "Using Theano backend.\n",
      "Using gpu device 2: GeForce GTX TITAN X (CNMeM is disabled, cuDNN 4007)\n"
     ]
    }
   ],
   "source": [
    "from keras.models import Sequential\n",
    "from keras.layers import Dense, Dropout, Input\n",
    "from keras.layers import Reshape\n",
    "from keras.models import Model\n",
    "from keras.layers.core import Activation\n",
    "from keras.layers.normalization import BatchNormalization\n",
    "from keras.layers.convolutional import UpSampling2D\n",
    "from keras.layers.convolutional import Convolution2D, MaxPooling2D\n",
    "from keras.preprocessing.image import load_img, img_to_array\n",
    "from keras.layers.core import Flatten\n",
    "from keras.optimizers import SGD\n",
    "from keras.datasets import mnist\n",
    "import numpy as np\n",
    "from PIL import Image\n",
    "import argparse\n",
    "import math\n",
    "\n",
    "from keras.applications import VGG16, vgg16\n",
    "from keras import backend as K\n",
    "\n",
    "import matplotlib.pyplot as plt"
   ]
  },
  {
   "cell_type": "code",
   "execution_count": 2,
   "metadata": {
    "collapsed": false
   },
   "outputs": [],
   "source": [
    "def gram_matrix(x):\n",
    "    assert K.ndim(x) == 3\n",
    "    features = K.batch_flatten(K.permute_dimensions(x, (2, 0, 1)))\n",
    "    gram = K.dot(features, K.transpose(features))\n",
    "    return gram\n",
    "\n",
    "def style_loss(style, combination):\n",
    "    assert K.ndim(style) == 3\n",
    "    assert K.ndim(combination) == 3\n",
    "    S = gram_matrix(style)\n",
    "    C = gram_matrix(combination)\n",
    "    channels = 3\n",
    "    size = 224*224#img_nrows * img_ncols\n",
    "    return K.sum(K.square(S - C)) / (4. * (channels ** 2) * (size ** 2))"
   ]
  },
  {
   "cell_type": "code",
   "execution_count": 3,
   "metadata": {
    "collapsed": true
   },
   "outputs": [],
   "source": [
    "def preprocess_image(image_path):\n",
    "    img = load_img(image_path)#, target_size=(img_nrows, img_ncols))\n",
    "    img = img_to_array(img)\n",
    "    img = np.expand_dims(img, axis=0)\n",
    "    img = vgg16.preprocess_input(img)\n",
    "    return img"
   ]
  },
  {
   "cell_type": "code",
   "execution_count": 4,
   "metadata": {
    "collapsed": false
   },
   "outputs": [],
   "source": [
    "# feature_layers = ['block1_conv1', 'block2_conv1',\n",
    "#                   'block3_conv1', 'block4_conv1',\n",
    "#                   'block5_conv1']\n",
    "\n",
    "# output_dict = dict([(layer.name, layer.output) for layer in vgg_model.layers])\n",
    "\n",
    "# # print outputs_dict\n",
    "\n",
    "# loss = K.variable(0.)\n",
    "# for layer_name in feature_layers:\n",
    "#     layer_features = output_dict[layer_name]\n",
    "#     combination_features = layer_features[1, :, :, :]\n",
    "#     style_features = layer_features[2, :, :, :]\n",
    "    \n",
    "#     loss += style_loss(combination_features, style_features) / len(feature_layers)"
   ]
  },
  {
   "cell_type": "code",
   "execution_count": 5,
   "metadata": {
    "collapsed": true
   },
   "outputs": [],
   "source": [
    "def get_loss(y_true, y_pred):\n",
    "#     feature_layers = ['block1_conv1', 'block2_conv1',\n",
    "#                   'block3_conv1', 'block4_conv1',\n",
    "#                   'block5_conv1']\n",
    "\n",
    "#     output_dict = dict([(layer.name, layer.output) for layer in vgg_model.layers])\n",
    "\n",
    "#     # print outputs_dict\n",
    "\n",
    "#     loss = K.variable(0.)\n",
    "#     for layer_name in feature_layers:\n",
    "#         layer_features = output_dict[layer_name]\n",
    "#         combination_features = layer_features[1, :, :, :]\n",
    "#         style_features = layer_features[2, :, :, :]\n",
    "#         loss += style_loss(combination_features, style_features) / len(feature_layers)\n",
    "        \n",
    "#     return 1\n",
    "    loss = style_loss(y_true[0, :, :, :], y_pred[0, :, :, :])\n",
    "    print \"loss\", K.shape(loss), loss\n",
    "    return loss"
   ]
  },
  {
   "cell_type": "code",
   "execution_count": 46,
   "metadata": {
    "collapsed": false,
    "scrolled": true
   },
   "outputs": [],
   "source": [
    "# Combine generative layer with VGG layer\n",
    "inputs = Input(shape=(224*224*3, ))\n",
    "    \n",
    "# Layer 1\n",
    "x1 = Dense(500, activation = 'tanh', init = 'glorot_uniform')(inputs)\n",
    "\n",
    "# Layer 2\n",
    "x = Dense(16*7*7, activation = 'tanh', init = 'glorot_uniform')(x1)\n",
    "x = BatchNormalization()(x)\n",
    "x = Reshape((16, 7, 7))(x)\n",
    "\n",
    "# Layer 3\n",
    "x = UpSampling2D(size = (2, 2))(x) #shape is (16, 14, 14)\n",
    "x = Convolution2D(32, 5, 5, border_mode = 'same', activation = 'tanh')(x)\n",
    "\n",
    "# Layer 4\n",
    "x = UpSampling2D(size = (2, 2))(x) #shape is (16, 28, 28)\n",
    "x = Convolution2D(32, 5, 5, border_mode = 'same', activation = 'tanh')(x)\n",
    "\n",
    "# Layer 5\n",
    "x = UpSampling2D(size = (4, 4))(x) #shape is (16, 112, 112)\n",
    "x = Convolution2D(32, 5, 5, border_mode = 'same', activation = 'tanh')(x)\n",
    "\n",
    "# Layer 6\n",
    "x = UpSampling2D(size = (2, 2))(x) # 28, 28 -> 224, 224\n",
    "out = Convolution2D(3, 5, 5, border_mode = 'same', activation = 'sigmoid')(x)\n",
    "\n",
    "\n",
    "#  output shape is (None, 3, 224, 224)\n",
    "generative_model = Model(input = inputs, output = out)\n",
    "\n",
    "vgg_model = VGG16(weights = 'imagenet', include_top = False)\n",
    "for layer in vgg_model.layers:\n",
    "    layer.trainable = False\n",
    "outp_vgg = vgg_model.output\n",
    "\n",
    "# Discriminative model\n",
    "disc_model = Model(input = vgg_model.input, output = vgg_model.layers[2].output)"
   ]
  },
  {
   "cell_type": "code",
   "execution_count": 47,
   "metadata": {
    "collapsed": false
   },
   "outputs": [],
   "source": [
    "model = Sequential()\n",
    "model.add(generative_model)\n",
    "model.add(disc_model)"
   ]
  },
  {
   "cell_type": "code",
   "execution_count": 48,
   "metadata": {
    "collapsed": false
   },
   "outputs": [
    {
     "name": "stdout",
     "output_type": "stream",
     "text": [
      "loss Shape.0 Elemwise{true_div,no_inplace}.0\n"
     ]
    }
   ],
   "source": [
    "import keras\n",
    "# adam_op = keras.optimizers.Adam(lr=0.1, beta_1=0.9, beta_2=0.999, epsilon=1e-08, decay=0.0)\n",
    "sgd = SGD(lr=5, momentum=0.9, nesterov=True)\n",
    "model.compile(loss = get_loss, optimizer = sgd)"
   ]
  },
  {
   "cell_type": "code",
   "execution_count": 49,
   "metadata": {
    "collapsed": false,
    "scrolled": true
   },
   "outputs": [
    {
     "name": "stdout",
     "output_type": "stream",
     "text": [
      "Epoch 1/100\n",
      "1/1 [==============================] - 0s - loss: 382.3404\n",
      "Epoch 2/100\n",
      "1/1 [==============================] - 0s - loss: 38259.6562\n",
      "Epoch 3/100\n",
      "1/1 [==============================] - 0s - loss: 38259.6562\n",
      "Epoch 4/100\n",
      "1/1 [==============================] - 0s - loss: 38259.6562\n",
      "Epoch 5/100\n",
      "1/1 [==============================] - 0s - loss: 38259.6562\n",
      "Epoch 6/100\n",
      "1/1 [==============================] - 0s - loss: 38259.6562\n",
      "Epoch 7/100\n",
      "1/1 [==============================] - 0s - loss: 38259.6562\n",
      "Epoch 8/100\n",
      "1/1 [==============================] - 0s - loss: 38259.6562\n",
      "Epoch 9/100\n",
      "1/1 [==============================] - 0s - loss: 38259.6562\n",
      "Epoch 10/100\n",
      "1/1 [==============================] - 0s - loss: 38259.6562\n",
      "Epoch 11/100\n",
      "1/1 [==============================] - 0s - loss: 38259.6562\n",
      "Epoch 12/100\n",
      "1/1 [==============================] - 0s - loss: 38259.6562\n",
      "Epoch 13/100\n",
      "1/1 [==============================] - 0s - loss: 38259.6562\n",
      "Epoch 14/100\n",
      "1/1 [==============================] - 0s - loss: 38259.6562\n",
      "Epoch 15/100\n",
      "1/1 [==============================] - 0s - loss: 38259.6562\n",
      "Epoch 16/100\n",
      "1/1 [==============================] - 0s - loss: 38259.6562\n",
      "Epoch 17/100\n",
      "1/1 [==============================] - 0s - loss: 38259.6562\n",
      "Epoch 18/100\n",
      "1/1 [==============================] - 0s - loss: 38259.6562\n",
      "Epoch 19/100\n",
      "1/1 [==============================] - 0s - loss: 38259.6562\n",
      "Epoch 20/100\n",
      "1/1 [==============================] - 0s - loss: 38259.6562\n",
      "Epoch 21/100\n",
      "1/1 [==============================] - 0s - loss: 38259.6562\n",
      "Epoch 22/100\n",
      "1/1 [==============================] - 0s - loss: 38259.6562\n",
      "Epoch 23/100\n",
      "1/1 [==============================] - 0s - loss: 38259.6562\n",
      "Epoch 24/100\n",
      "1/1 [==============================] - 0s - loss: 38259.6562\n",
      "Epoch 25/100\n",
      "1/1 [==============================] - 0s - loss: 38259.6562\n",
      "Epoch 26/100\n",
      "1/1 [==============================] - 0s - loss: 38259.6562\n",
      "Epoch 27/100\n",
      "1/1 [==============================] - 0s - loss: 38259.6562\n",
      "Epoch 28/100\n",
      "1/1 [==============================] - 0s - loss: 38259.6562\n",
      "Epoch 29/100\n",
      "1/1 [==============================] - 0s - loss: 38259.6562\n",
      "Epoch 30/100\n",
      "1/1 [==============================] - 0s - loss: 38259.6562\n",
      "Epoch 31/100\n",
      "1/1 [==============================] - 0s - loss: 38259.6562\n",
      "Epoch 32/100\n",
      "1/1 [==============================] - 0s - loss: 38259.6562\n",
      "Epoch 33/100\n",
      "1/1 [==============================] - 0s - loss: 38259.6562\n",
      "Epoch 34/100\n",
      "1/1 [==============================] - 0s - loss: 38259.6562\n",
      "Epoch 35/100\n",
      "1/1 [==============================] - 0s - loss: 38259.6562\n",
      "Epoch 36/100\n",
      "1/1 [==============================] - 0s - loss: 38259.6562\n",
      "Epoch 37/100\n",
      "1/1 [==============================] - 0s - loss: 38259.6562\n",
      "Epoch 38/100\n",
      "1/1 [==============================] - 0s - loss: 38259.6562\n",
      "Epoch 39/100\n",
      "1/1 [==============================] - 0s - loss: 38259.6562\n",
      "Epoch 40/100\n",
      "1/1 [==============================] - 0s - loss: 38259.6562\n",
      "Epoch 41/100\n",
      "1/1 [==============================] - 0s - loss: 38259.6562\n",
      "Epoch 42/100\n",
      "1/1 [==============================] - 0s - loss: 38259.6562\n",
      "Epoch 43/100\n",
      "1/1 [==============================] - 0s - loss: 38259.6562\n",
      "Epoch 44/100\n",
      "1/1 [==============================] - 0s - loss: 38259.6562\n",
      "Epoch 45/100\n",
      "1/1 [==============================] - 0s - loss: 38259.6562\n",
      "Epoch 46/100\n",
      "1/1 [==============================] - 0s - loss: 38259.6562\n",
      "Epoch 47/100\n",
      "1/1 [==============================] - 0s - loss: 38259.6562\n",
      "Epoch 48/100\n",
      "1/1 [==============================] - 0s - loss: 38259.6562\n",
      "Epoch 49/100\n",
      "1/1 [==============================] - 0s - loss: 38259.6562\n",
      "Epoch 50/100\n",
      "1/1 [==============================] - 0s - loss: 38259.6562\n",
      "Epoch 51/100\n",
      "1/1 [==============================] - 0s - loss: 38259.6562\n",
      "Epoch 52/100\n",
      "1/1 [==============================] - 0s - loss: 38259.6562\n",
      "Epoch 53/100\n",
      "1/1 [==============================] - 0s - loss: 38259.6562\n",
      "Epoch 54/100\n",
      "1/1 [==============================] - 0s - loss: 38259.6562\n",
      "Epoch 55/100\n",
      "1/1 [==============================] - 0s - loss: 38259.6562\n",
      "Epoch 56/100\n",
      "1/1 [==============================] - 0s - loss: 38259.6562\n",
      "Epoch 57/100\n",
      "1/1 [==============================] - 0s - loss: 38259.6562\n",
      "Epoch 58/100\n",
      "1/1 [==============================] - 0s - loss: 38259.6562\n",
      "Epoch 59/100\n",
      "1/1 [==============================] - 0s - loss: 38259.6562\n",
      "Epoch 60/100\n",
      "1/1 [==============================] - 0s - loss: 38259.6562\n",
      "Epoch 61/100\n",
      "1/1 [==============================] - 0s - loss: 38259.6562\n",
      "Epoch 62/100\n",
      "1/1 [==============================] - 0s - loss: 38259.6562\n",
      "Epoch 63/100\n",
      "1/1 [==============================] - 0s - loss: 38259.6562\n",
      "Epoch 64/100\n",
      "1/1 [==============================] - 0s - loss: 38259.6562\n",
      "Epoch 65/100\n",
      "1/1 [==============================] - 0s - loss: 38259.6562\n",
      "Epoch 66/100\n",
      "1/1 [==============================] - 0s - loss: 38259.6562\n",
      "Epoch 67/100\n",
      "1/1 [==============================] - 0s - loss: 38259.6562\n",
      "Epoch 68/100\n",
      "1/1 [==============================] - 0s - loss: 38259.6562\n",
      "Epoch 69/100\n",
      "1/1 [==============================] - 0s - loss: 38259.6562\n",
      "Epoch 70/100\n",
      "1/1 [==============================] - 0s - loss: 38259.6562\n",
      "Epoch 71/100\n",
      "1/1 [==============================] - 0s - loss: 38259.6562\n",
      "Epoch 72/100\n",
      "1/1 [==============================] - 0s - loss: 38259.6562\n",
      "Epoch 73/100\n",
      "1/1 [==============================] - 0s - loss: 38259.6562\n",
      "Epoch 74/100\n",
      "1/1 [==============================] - 0s - loss: 38259.6562\n",
      "Epoch 75/100\n",
      "1/1 [==============================] - 0s - loss: 38259.6562\n",
      "Epoch 76/100\n",
      "1/1 [==============================] - 0s - loss: 38259.6562\n",
      "Epoch 77/100\n",
      "1/1 [==============================] - 0s - loss: 38259.6562\n",
      "Epoch 78/100\n",
      "1/1 [==============================] - 0s - loss: 38259.6562\n",
      "Epoch 79/100\n",
      "1/1 [==============================] - 0s - loss: 38259.6562\n",
      "Epoch 80/100\n",
      "1/1 [==============================] - 0s - loss: 38259.6562\n",
      "Epoch 81/100\n",
      "1/1 [==============================] - 0s - loss: 38259.6562\n",
      "Epoch 82/100\n",
      "1/1 [==============================] - 0s - loss: 38259.6562\n",
      "Epoch 83/100\n",
      "1/1 [==============================] - 0s - loss: 38259.6562\n",
      "Epoch 84/100\n",
      "1/1 [==============================] - 0s - loss: 38259.6562\n",
      "Epoch 85/100\n",
      "1/1 [==============================] - 0s - loss: 38259.6562\n",
      "Epoch 86/100\n",
      "1/1 [==============================] - 0s - loss: 38259.6562\n",
      "Epoch 87/100\n",
      "1/1 [==============================] - 0s - loss: 38259.6562\n",
      "Epoch 88/100\n",
      "1/1 [==============================] - 0s - loss: 38259.6562\n",
      "Epoch 89/100\n",
      "1/1 [==============================] - 0s - loss: 38259.6562\n",
      "Epoch 90/100\n",
      "1/1 [==============================] - 0s - loss: 38259.6562\n",
      "Epoch 91/100\n",
      "1/1 [==============================] - 0s - loss: 38259.6562\n",
      "Epoch 92/100\n",
      "1/1 [==============================] - 0s - loss: 38259.6562\n",
      "Epoch 93/100\n",
      "1/1 [==============================] - 0s - loss: 38259.6562\n",
      "Epoch 94/100\n",
      "1/1 [==============================] - 0s - loss: 38259.6562\n",
      "Epoch 95/100\n",
      "1/1 [==============================] - 0s - loss: 38259.6562\n",
      "Epoch 96/100\n",
      "1/1 [==============================] - 0s - loss: 38259.6562\n",
      "Epoch 97/100\n",
      "1/1 [==============================] - 0s - loss: 38259.6562\n",
      "Epoch 98/100\n",
      "1/1 [==============================] - 0s - loss: 38259.6562\n",
      "Epoch 99/100\n",
      "1/1 [==============================] - 0s - loss: 38259.6562\n",
      "Epoch 100/100\n",
      "1/1 [==============================] - 0s - loss: 38259.6562\n"
     ]
    },
    {
     "data": {
      "text/plain": [
       "<keras.callbacks.History at 0x7f765abc45d0>"
      ]
     },
     "execution_count": 49,
     "metadata": {},
     "output_type": "execute_result"
    }
   ],
   "source": [
    "model.fit(np.array(trainX3), np.array(trainY2), nb_epoch = 100)"
   ]
  },
  {
   "cell_type": "code",
   "execution_count": 41,
   "metadata": {
    "collapsed": false,
    "scrolled": true
   },
   "outputs": [],
   "source": [
    "#trainY\n",
    "jpgfile = Image.open(\"van.jpg\")\n",
    "inp = np.array(jpgfile.getdata())\n",
    "inp = np.array(jpgfile.getdata())\n",
    "inp = inp.swapaxes(0, 1)\n",
    "inp = np.reshape(inp, (1, 3, 224, 224))\n",
    "# trainY = disc_model.predict([inp])\n",
    "trainY2 = disc_model.predict([inp/256])"
   ]
  },
  {
   "cell_type": "code",
   "execution_count": 42,
   "metadata": {
    "collapsed": false
   },
   "outputs": [],
   "source": [
    "import Image\n",
    "jpgfile = Image.open(\"orig.jpg\")\n",
    "inp = np.array(jpgfile.getdata())\n",
    "inp = inp.swapaxes(0, 1)\n",
    "trainX = np.reshape(inp, (1, 3, 224, 224))\n",
    "# trainX = disc_model.predict([inp])"
   ]
  },
  {
   "cell_type": "code",
   "execution_count": 43,
   "metadata": {
    "collapsed": true
   },
   "outputs": [],
   "source": [
    "trainX2 = np.reshape(trainX, (1, np.product(trainX.shape)))"
   ]
  },
  {
   "cell_type": "code",
   "execution_count": 44,
   "metadata": {
    "collapsed": false
   },
   "outputs": [],
   "source": [
    "trainX3 = trainX2/256"
   ]
  },
  {
   "cell_type": "code",
   "execution_count": 93,
   "metadata": {
    "collapsed": false
   },
   "outputs": [
    {
     "data": {
      "text/plain": [
       "(1, 3, 224, 224)"
      ]
     },
     "execution_count": 93,
     "metadata": {},
     "output_type": "execute_result"
    }
   ],
   "source": [
    "trainX.shape"
   ]
  },
  {
   "cell_type": "code",
   "execution_count": 50,
   "metadata": {
    "collapsed": false
   },
   "outputs": [],
   "source": [
    "img = generative_model.predict(trainX3)"
   ]
  },
  {
   "cell_type": "code",
   "execution_count": 51,
   "metadata": {
    "collapsed": false
   },
   "outputs": [],
   "source": [
    "img = img[0]\n",
    "img = img.swapaxes(0, 2).swapaxes(0, 1)"
   ]
  },
  {
   "cell_type": "code",
   "execution_count": 52,
   "metadata": {
    "collapsed": false
   },
   "outputs": [
    {
     "data": {
      "image/png": "[encoded data removed]",
      "text/plain": [
       "<matplotlib.figure.Figure at 0x7f7659f94810>"
      ]
     },
     "metadata": {},
     "output_type": "display_data"
    }
   ],
   "source": [
    "plt.imshow(img*256)\n",
    "plt.show()"
   ]
  },
  {
   "cell_type": "code",
   "execution_count": 53,
   "metadata": {
    "collapsed": false
   },
   "outputs": [
    {
     "data": {
      "text/plain": [
       "array([[[ 0.,  1.,  0.],\n",
       "        [ 0.,  1.,  0.],\n",
       "        [ 0.,  1.,  0.],\n",
       "        ..., \n",
       "        [ 0.,  1.,  0.],\n",
       "        [ 0.,  1.,  0.],\n",
       "        [ 0.,  1.,  0.]],\n",
       "\n",
       "       [[ 0.,  1.,  0.],\n",
       "        [ 0.,  1.,  0.],\n",
       "        [ 0.,  1.,  0.],\n",
       "        ..., \n",
       "        [ 0.,  1.,  0.],\n",
       "        [ 0.,  1.,  0.],\n",
       "        [ 0.,  1.,  0.]],\n",
       "\n",
       "       [[ 0.,  1.,  0.],\n",
       "        [ 0.,  1.,  0.],\n",
       "        [ 0.,  1.,  0.],\n",
       "        ..., \n",
       "        [ 0.,  1.,  0.],\n",
       "        [ 0.,  1.,  0.],\n",
       "        [ 0.,  1.,  0.]],\n",
       "\n",
       "       ..., \n",
       "       [[ 0.,  1.,  0.],\n",
       "        [ 0.,  1.,  0.],\n",
       "        [ 0.,  1.,  0.],\n",
       "        ..., \n",
       "        [ 0.,  1.,  0.],\n",
       "        [ 0.,  1.,  0.],\n",
       "        [ 0.,  1.,  0.]],\n",
       "\n",
       "       [[ 0.,  1.,  0.],\n",
       "        [ 0.,  1.,  0.],\n",
       "        [ 0.,  1.,  0.],\n",
       "        ..., \n",
       "        [ 0.,  1.,  0.],\n",
       "        [ 0.,  1.,  0.],\n",
       "        [ 0.,  1.,  0.]],\n",
       "\n",
       "       [[ 0.,  1.,  0.],\n",
       "        [ 0.,  1.,  0.],\n",
       "        [ 0.,  1.,  0.],\n",
       "        ..., \n",
       "        [ 0.,  1.,  0.],\n",
       "        [ 0.,  1.,  0.],\n",
       "        [ 0.,  1.,  0.]]], dtype=float32)"
      ]
     },
     "execution_count": 53,
     "metadata": {},
     "output_type": "execute_result"
    }
   ],
   "source": [
    "img[0]"
   ]
  },
  {
   "cell_type": "code",
   "execution_count": null,
   "metadata": {
    "collapsed": true
   },
   "outputs": [],
   "source": []
  }
 ],
 "metadata": {
  "kernelspec": {
   "display_name": "Python 2",
   "language": "python",
   "name": "python2"
  },
  "language_info": {
   "codemirror_mode": {
    "name": "ipython",
    "version": 2
   },
   "file_extension": ".py",
   "mimetype": "text/x-python",
   "name": "python",
   "nbconvert_exporter": "python",
   "pygments_lexer": "ipython2",
   "version": "2.7.6"
  }
 },
 "nbformat": 4,
 "nbformat_minor": 0
}
