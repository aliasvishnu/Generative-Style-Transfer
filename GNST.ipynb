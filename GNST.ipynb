{
 "cells": [
  {
   "cell_type": "code",
   "execution_count": 1,
   "metadata": {
    "collapsed": false
   },
   "outputs": [
    {
     "name": "stderr",
     "output_type": "stream",
     "text": [
      "Using Theano backend.\n",
      "Using gpu device 2: GeForce GTX TITAN X (CNMeM is disabled, cuDNN 4007)\n"
     ]
    }
   ],
   "source": [
    "from keras.models import Sequential\n",
    "from keras.layers import Dense, Dropout, Input\n",
    "from keras.layers import Reshape\n",
    "from keras.models import Model\n",
    "from keras.layers.core import Activation\n",
    "from keras.layers.normalization import BatchNormalization\n",
    "from keras.layers.convolutional import UpSampling2D\n",
    "from keras.layers.convolutional import Convolution2D, MaxPooling2D\n",
    "from keras.preprocessing.image import load_img, img_to_array\n",
    "from keras.layers.core import Flatten\n",
    "from keras.optimizers import SGD\n",
    "from keras.datasets import mnist\n",
    "import numpy as np\n",
    "from PIL import Image\n",
    "import argparse\n",
    "import math\n",
    "\n",
    "from keras.applications import VGG16, vgg16\n",
    "from keras import backend as K\n",
    "\n",
    "import matplotlib.pyplot as plt"
   ]
  },
  {
   "cell_type": "code",
   "execution_count": 170,
   "metadata": {
    "collapsed": false
   },
   "outputs": [],
   "source": [
    "# def gram_matrix(x):\n",
    "#     assert K.ndim(x) == 3\n",
    "#     features = K.batch_flatten(K.permute_dimensions(x, (2, 0, 1)))\n",
    "#     gram = K.dot(features, K.transpose(features))\n",
    "#     return gram\n",
    "\n",
    "# def style_loss(style, combination):\n",
    "#     assert K.ndim(style) == 3\n",
    "#     assert K.ndim(combination) == 3\n",
    "#     S = gram_matrix(style)\n",
    "#     C = gram_matrix(combination)\n",
    "#     channels = 3\n",
    "#     size = 224*224#img_nrows * img_ncols\n",
    "#     return K.sum(K.square(S - C)) / (4. * (channels ** 2) * (size ** 2))\n",
    "\n",
    "def gram_matrix(x):\n",
    "    assert K.ndim(x) == 3\n",
    "    features = K.batch_flatten(K.permute_dimensions(x, (2, 0, 1)))\n",
    "    gram = K.dot(features, K.transpose(features))\n",
    "    return gram\n",
    "\n",
    "\n",
    "def style_loss(style, combination):\n",
    "    assert K.ndim(style) == 3\n",
    "    assert K.ndim(combination) == 3\n",
    "    S = gram_matrix(style)\n",
    "    C = gram_matrix(combination)\n",
    "    channels = 3\n",
    "    size = img_nrows * img_ncols\n",
    "    return K.sum(K.square(S - C)) / (4. * (channels ** 2) * (size ** 2))\n",
    "\n",
    "# an auxiliary loss function\n",
    "# designed to maintain the \"content\" of the\n",
    "# base image in the generated image\n",
    "\n",
    "\n",
    "def content_loss(base, combination):\n",
    "    return K.sum(K.square(combination - base))\n",
    "\n",
    "# the 3rd loss function, total variation loss,\n",
    "# designed to keep the generated image locally coherent\n",
    "\n",
    "def total_variation_loss(x):\n",
    "    assert K.ndim(x) == 4\n",
    "    a = K.square(x[:, :img_nrows - 1, :img_ncols - 1, :] - x[:, 1:, :img_ncols - 1, :])\n",
    "    b = K.square(x[:, :img_nrows - 1, :img_ncols - 1, :] - x[:, :img_nrows - 1, 1:, :])\n",
    "    return K.sum(K.pow(a + b, 1.25))"
   ]
  },
  {
   "cell_type": "code",
   "execution_count": 3,
   "metadata": {
    "collapsed": true
   },
   "outputs": [],
   "source": [
    "base_image_path = \"building.jpg\"\n",
    "style_reference_image_path = \"vango2.jpg\"\n",
    "# result_prefix = \"res\"\n",
    "iterations = 30\n",
    "\n",
    "total_variation_weight = 1.0\n",
    "style_weight = 1.0\n",
    "content_weight = 0.025 * 4 * 4\n",
    "\n",
    "width, height = load_img(base_image_path).size\n",
    "img_nrows = 224\n",
    "img_ncols = 224#int(width * img_nrows / height)"
   ]
  },
  {
   "cell_type": "code",
   "execution_count": 4,
   "metadata": {
    "collapsed": true
   },
   "outputs": [],
   "source": [
    "def preprocess_image(image_path):\n",
    "    img = load_img(image_path, target_size=(img_nrows, img_ncols))\n",
    "    img = img_to_array(img)\n",
    "    img = np.expand_dims(img, axis=0)\n",
    "    img = vgg16.preprocess_input(img)\n",
    "    return img"
   ]
  },
  {
   "cell_type": "code",
   "execution_count": 5,
   "metadata": {
    "collapsed": false
   },
   "outputs": [],
   "source": [
    "# feature_layers = ['block1_conv1', 'block2_conv1',\n",
    "#                   'block3_conv1', 'block4_conv1',\n",
    "#                   'block5_conv1']\n",
    "\n",
    "# output_dict = dict([(layer.name, layer.output) for layer in vgg_model.layers])\n",
    "\n",
    "# # print outputs_dict\n",
    "\n",
    "# loss = K.variable(0.)\n",
    "# for layer_name in feature_layers:\n",
    "#     layer_features = output_dict[layer_name]\n",
    "#     combination_features = layer_features[1, :, :, :]\n",
    "#     style_features = layer_features[2, :, :, :]\n",
    "    \n",
    "#     loss += style_loss(combination_features, style_features) / len(feature_layers)\n",
    "\n",
    "\n",
    "\n",
    "# def get_actual_loss(y_true, y_pred):\n",
    "#     loss = K.variable(0.)\n",
    "#     layer_features = outputs_dict['block4_conv2']\n",
    "#     base_image_features = layer_features[0, :, :, :]\n",
    "#     combination_features = layer_features[2, :, :, :]\n",
    "#     loss += content_weight * content_loss(base_image_features,\n",
    "#                                           combination_features)\n",
    "\n",
    "#     feature_layers = ['block1_conv1', 'block2_conv1',\n",
    "#                       'block3_conv1', 'block4_conv1',\n",
    "#                       'block5_conv1']\n",
    "#     for layer_name in feature_layers:\n",
    "#         layer_features = outputs_dict[layer_name]\n",
    "#         style_reference_features = layer_features[1, :, :, :]\n",
    "#         combination_features = layer_features[2, :, :, :]\n",
    "#         sl = style_loss(style_reference_features, combination_features)\n",
    "#         loss += (style_weight / len(feature_layers)) * sl\n",
    "#     loss += total_variation_weight * total_variation_loss(combination_image)\n",
    "#     return loss\n"
   ]
  },
  {
   "cell_type": "code",
   "execution_count": null,
   "metadata": {
    "collapsed": true
   },
   "outputs": [],
   "source": [
    "\n",
    "def style_loss(style, combination):\n",
    "    assert K.ndim(style) == 3\n",
    "    assert K.ndim(combination) == 3\n",
    "    S = gram_matrix(style)\n",
    "    C = gram_matrix(combination)\n",
    "    channels = 3\n",
    "    size = img_nrows * img_ncols\n",
    "    return K.sum(K.square(S - C)) / (4. * (channels ** 2) * (size ** 2))"
   ]
  },
  {
   "cell_type": "code",
   "execution_count": 384,
   "metadata": {
    "collapsed": false
   },
   "outputs": [],
   "source": [
    "def get_loss(y_true, y_pred):\n",
    "    loss = style_loss(y_true[0, :, :, :], y_pred[0, :, :, :])\n",
    "    print \"loss\", K.shape(loss), loss\n",
    "    return loss\n",
    "#     loss = K.variable(0.)\n",
    "#     for i in range(5):\n",
    "#         loss += style_loss(K.variable(y_true[i][0, :, :, :]), K.variable(y_pred[i][0, :, :, :]))\n",
    "    \n",
    "#     print \"loss\", K.shape(loss)\n",
    "#     return loss"
   ]
  },
  {
   "cell_type": "code",
   "execution_count": 371,
   "metadata": {
    "collapsed": true
   },
   "outputs": [],
   "source": [
    "def get_vgg_loss(y_true, y_pred):\n",
    "#     print \n",
    "#     vgg_pred = disc_model.predict(y_pred)    \n",
    "#     vgg_true = disc_model.predict(y_true)\n",
    "    v1 = []\n",
    "    v2 = []\n",
    "    for i in range(5):\n",
    "        val = K.function([disc_model.input], [K.variable(disc_model.output[i])])    \n",
    "        v1.append(val(y_pred))\n",
    "        v2.append(val(y_true))\n",
    "    \n",
    "    loss = K.variable(0.)\n",
    "    \n",
    "    for i in range(5):\n",
    "        loss += style_loss(K.variable(vgg_true[i][0, :, :, :]), K.variable(vgg_pred[i][0, :, :, :]))\n",
    "    \n",
    "    \n",
    "    return loss"
   ]
  },
  {
   "cell_type": "code",
   "execution_count": null,
   "metadata": {
    "collapsed": true
   },
   "outputs": [],
   "source": []
  },
  {
   "cell_type": "code",
   "execution_count": 407,
   "metadata": {
    "collapsed": false,
    "scrolled": true
   },
   "outputs": [
    {
     "name": "stdout",
     "output_type": "stream",
     "text": [
      "<class 'theano.tensor.var.TensorVariable'>\n"
     ]
    }
   ],
   "source": [
    "# Combine generative layer with VGG layer\n",
    "inputs = Input(shape=( 224*224*3, ))\n",
    "    \n",
    "# Layer 1\n",
    "x1 = Dense(500, activation = 'tanh', init = 'glorot_uniform')(inputs)\n",
    "\n",
    "# Layer 2\n",
    "x = Dense(16*7*7, activation = 'tanh', init = 'glorot_uniform')(x1)\n",
    "x = BatchNormalization()(x)\n",
    "x = Reshape((16, 7, 7))(x)\n",
    "\n",
    "# Layer 3\n",
    "x = UpSampling2D(size = (2, 2))(x) #shape is (16, 14, 14)\n",
    "x = Convolution2D(32, 5, 5, border_mode = 'same', activation = 'tanh')(x)\n",
    "\n",
    "# Layer 4\n",
    "x = UpSampling2D(size = (2, 2))(x) #shape is (16, 28, 28)\n",
    "x = Convolution2D(32, 5, 5, border_mode = 'same', activation = 'tanh')(x)\n",
    "\n",
    "# Layer 5\n",
    "x = UpSampling2D(size = (4, 4))(x) #shape is (16, 112, 112)\n",
    "x = Convolution2D(32, 5, 5, border_mode = 'same', activation = 'tanh')(x)\n",
    "\n",
    "# Layer 6\n",
    "x = UpSampling2D(size = (2, 2))(x) # 28, 28 -> 224, 224\n",
    "out = Convolution2D(3, 5, 5, border_mode = 'same', activation = 'sigmoid')(x)\n",
    "\n",
    "#  output shape is (None, 3, 224, 224)\n",
    "generative_model = Model(input = inputs, output = out)\n",
    "print type(out)\n",
    "\n",
    "## VGG definition\n",
    "vgg_model = VGG16(weights = 'imagenet', include_top = False)\n",
    "for layer in vgg_model.layers:\n",
    "    layer.trainable = False\n",
    "outp_vgg = vgg_model.output\n",
    "\n",
    "\n",
    "fl = ['block1_conv1', 'block2_conv1','block3_conv1', 'block4_conv1',\n",
    "                  'block5_conv1']\n",
    "\n",
    "\n",
    "ot = dict([(layer.name, layer.output) for layer in vgg_model.layers])\n",
    "\n",
    "# outputs = K.concatenate([ot[fl[0]], ot[fl[1]], ot[fl[2]], ot[fl[3]], ot[fl[4]]], axis = 0)\n",
    "\n",
    "\n",
    "# for i in range(1, len(feature_layers)):\n",
    "#     outputs = K.concatenate([outputs, output_dict[feature_layers[i]]], axis = 0)\n",
    "# print type(outputs)\n",
    "\n",
    "# Discriminative model\n",
    "disc_model = Model(input = vgg_model.input, output = vgg_model.layers[-3].output)"
   ]
  },
  {
   "cell_type": "code",
   "execution_count": 408,
   "metadata": {
    "collapsed": false
   },
   "outputs": [],
   "source": [
    "model = Sequential()\n",
    "model.add(generative_model)\n",
    "model.add(disc_model)"
   ]
  },
  {
   "cell_type": "code",
   "execution_count": 409,
   "metadata": {
    "collapsed": false
   },
   "outputs": [
    {
     "name": "stdout",
     "output_type": "stream",
     "text": [
      "loss Shape.0 Elemwise{true_div,no_inplace}.0\n"
     ]
    }
   ],
   "source": [
    "model.compile(loss = get_loss, optimizer = adam_op)"
   ]
  },
  {
   "cell_type": "code",
   "execution_count": 410,
   "metadata": {
    "collapsed": false
   },
   "outputs": [
    {
     "name": "stdout",
     "output_type": "stream",
     "text": [
      "(1, 3, 224, 224)\n",
      "(1, 512, 14, 14)\n"
     ]
    }
   ],
   "source": [
    "#trainY\n",
    "jpgfile = Image.open(\"vango2.jpg\")\n",
    "inp = np.array(jpgfile.getdata())\n",
    "inp = np.array(jpgfile.getdata())\n",
    "inp = inp.swapaxes(0, 1)\n",
    "inp = np.reshape(inp, (1, 3, 224, 224))\n",
    "# trainY = disc_model.predict([inp])\n",
    "print inp.shape\n",
    "trainY2 = disc_model.predict([inp * 1.0/256])\n",
    "print trainY2.shape\n",
    "\n",
    "# import Image\n",
    "jpgfile = Image.open(\"building.jpg\")\n",
    "inp = np.array(jpgfile.getdata())\n",
    "inp = inp.swapaxes(0, 1)\n",
    "trainX = np.reshape(inp, (3, 224, 224))\n",
    "# trainX = disc_model.predict([inp])\n",
    "\n",
    "trainX2 = np.reshape(trainX, (1, np.product(trainX.shape)))\n",
    "trainX3 = trainX2/256.0"
   ]
  },
  {
   "cell_type": "code",
   "execution_count": 411,
   "metadata": {
    "collapsed": false,
    "scrolled": true
   },
   "outputs": [
    {
     "data": {
      "text/plain": [
       "<keras.callbacks.History at 0x7f5a1c637310>"
      ]
     },
     "execution_count": 411,
     "metadata": {},
     "output_type": "execute_result"
    }
   ],
   "source": [
    "model.fit(trainX3, trainY2, nb_epoch = 100, verbose = 0)"
   ]
  },
  {
   "cell_type": "code",
   "execution_count": 19,
   "metadata": {
    "collapsed": false
   },
   "outputs": [],
   "source": [
    "%matplotlib inline"
   ]
  },
  {
   "cell_type": "code",
   "execution_count": 412,
   "metadata": {
    "collapsed": false
   },
   "outputs": [],
   "source": [
    "img = generative_model.predict(trainX3)"
   ]
  },
  {
   "cell_type": "code",
   "execution_count": 413,
   "metadata": {
    "collapsed": false
   },
   "outputs": [],
   "source": [
    "img = img[0]\n",
    "img = img.swapaxes(0, 2).swapaxes(0, 1)"
   ]
  },
  {
   "cell_type": "code",
   "execution_count": 414,
   "metadata": {
    "collapsed": false
   },
   "outputs": [
    {
     "data": {
      "image/png": "[encoded data removed]",
      "text/plain": [
       "<matplotlib.figure.Figure at 0x7f5a1875cc50>"
      ]
     },
     "metadata": {},
     "output_type": "display_data"
    }
   ],
   "source": [
    "plt.imshow(img*256)\n",
    "plt.show()"
   ]
  },
  {
   "cell_type": "code",
   "execution_count": 416,
   "metadata": {
    "collapsed": false
   },
   "outputs": [
    {
     "name": "stdout",
     "output_type": "stream",
     "text": [
      "____________________________________________________________________________________________________\n",
      "Layer (type)                     Output Shape          Param #     Connected to                     \n",
      "====================================================================================================\n",
      "input_95 (InputLayer)            (None, 150528)        0                                            \n",
      "____________________________________________________________________________________________________\n",
      "dense_95 (Dense)                 (None, 500)           75264500    input_95[0][0]                   \n",
      "____________________________________________________________________________________________________\n",
      "dense_96 (Dense)                 (None, 784)           392784      dense_95[0][0]                   \n",
      "____________________________________________________________________________________________________\n",
      "batchnormalization_48 (BatchNorm (None, 784)           3136        dense_96[0][0]                   \n",
      "____________________________________________________________________________________________________\n",
      "reshape_48 (Reshape)             (None, 16, 7, 7)      0           batchnormalization_48[0][0]      \n",
      "____________________________________________________________________________________________________\n",
      "upsampling2d_189 (UpSampling2D)  (None, 16, 14, 14)    0           reshape_48[0][0]                 \n",
      "____________________________________________________________________________________________________\n",
      "convolution2d_189 (Convolution2D (None, 32, 14, 14)    12832       upsampling2d_189[0][0]           \n",
      "____________________________________________________________________________________________________\n",
      "upsampling2d_190 (UpSampling2D)  (None, 32, 28, 28)    0           convolution2d_189[0][0]          \n",
      "____________________________________________________________________________________________________\n",
      "convolution2d_190 (Convolution2D (None, 32, 28, 28)    25632       upsampling2d_190[0][0]           \n",
      "____________________________________________________________________________________________________\n",
      "upsampling2d_191 (UpSampling2D)  (None, 32, 112, 112)  0           convolution2d_190[0][0]          \n",
      "____________________________________________________________________________________________________\n",
      "convolution2d_191 (Convolution2D (None, 32, 112, 112)  25632       upsampling2d_191[0][0]           \n",
      "____________________________________________________________________________________________________\n",
      "upsampling2d_192 (UpSampling2D)  (None, 32, 224, 224)  0           convolution2d_191[0][0]          \n",
      "____________________________________________________________________________________________________\n",
      "convolution2d_192 (Convolution2D (None, 3, 224, 224)   2403        upsampling2d_192[0][0]           \n",
      "====================================================================================================\n",
      "Total params: 75,726,919\n",
      "Trainable params: 75,725,351\n",
      "Non-trainable params: 1,568\n",
      "____________________________________________________________________________________________________\n"
     ]
    }
   ],
   "source": [
    "generative_model.summary()"
   ]
  },
  {
   "cell_type": "code",
   "execution_count": null,
   "metadata": {
    "collapsed": true
   },
   "outputs": [],
   "source": []
  }
 ],
 "metadata": {
  "anaconda-cloud": {},
  "kernelspec": {
   "display_name": "Python 2",
   "language": "python",
   "name": "python2"
  },
  "language_info": {
   "codemirror_mode": {
    "name": "ipython",
    "version": 2
   },
   "file_extension": ".py",
   "mimetype": "text/x-python",
   "name": "python",
   "nbconvert_exporter": "python",
   "pygments_lexer": "ipython2",
   "version": "2.7.6"
  }
 },
 "nbformat": 4,
 "nbformat_minor": 0
}
