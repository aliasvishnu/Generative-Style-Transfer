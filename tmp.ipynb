{
 "cells": [
  {
   "cell_type": "code",
   "execution_count": 2,
   "metadata": {
    "collapsed": false,
    "deletable": true,
    "editable": true
   },
   "outputs": [
    {
     "name": "stderr",
     "output_type": "stream",
     "text": [
      "Using TensorFlow backend.\n"
     ]
    }
   ],
   "source": [
    "from __future__ import print_function\n",
    "from keras.preprocessing.image import load_img, img_to_array\n",
    "from scipy.misc import imsave\n",
    "import numpy as np\n",
    "from scipy.optimize import fmin_l_bfgs_b\n",
    "import time\n",
    "import argparse\n",
    "\n",
    "from keras.applications import vgg16, vgg16\n",
    "from keras import backend as K\n"
   ]
  },
  {
   "cell_type": "code",
   "execution_count": 3,
   "metadata": {
    "collapsed": true,
    "deletable": true,
    "editable": true
   },
   "outputs": [],
   "source": [
    "base_image_path = \"./house.png\"\n",
    "style_reference_image_path = \"./vango.jpg\"\n",
    "result_prefix = \"res\"\n",
    "iterations = 30\n",
    "\n",
    "total_variation_weight = 1.0\n",
    "style_weight = 1.0\n",
    "content_weight = 0.025 * 4 * 4\n",
    "\n"
   ]
  },
  {
   "cell_type": "code",
   "execution_count": 4,
   "metadata": {
    "collapsed": false,
    "deletable": true,
    "editable": true
   },
   "outputs": [],
   "source": [
    "width, height = load_img(base_image_path).size\n",
    "img_nrows = 400\n",
    "img_ncols = int(width * img_nrows / height)\n"
   ]
  },
  {
   "cell_type": "code",
   "execution_count": 5,
   "metadata": {
    "collapsed": true,
    "deletable": true,
    "editable": true
   },
   "outputs": [],
   "source": [
    "def preprocess_image(image_path):\n",
    "    img = load_img(image_path, target_size=(img_nrows, img_ncols))\n",
    "    img = img_to_array(img)\n",
    "    img = np.expand_dims(img, axis=0)\n",
    "    img = vgg16.preprocess_input(img)\n",
    "    return img\n",
    "\n",
    "\n",
    "def deprocess_image(x):\n",
    "    x = x.reshape((img_nrows, img_ncols, 3))\n",
    "    x[:, :, 0] += 128#103.939\n",
    "    x[:, :, 1] += 128#116.779\n",
    "    x[:, :, 2] += 128#123.68\n",
    "    x = x[:, :, ::-1]\n",
    "    x = np.clip(x, 0, 255).astype('uint8')\n",
    "    return x\n",
    "\n",
    "base_image = K.variable(preprocess_image(base_image_path))\n",
    "style_reference_image = K.variable(preprocess_image(style_reference_image_path))\n",
    "\n",
    "combination_image = K.placeholder((1, img_nrows, img_ncols, 3))\n"
   ]
  },
  {
   "cell_type": "code",
   "execution_count": 6,
   "metadata": {
    "collapsed": false,
    "deletable": true,
    "editable": true
   },
   "outputs": [
    {
     "name": "stdout",
     "output_type": "stream",
     "text": [
      "Model loaded.\n"
     ]
    }
   ],
   "source": [
    "input_tensor = K.concatenate([base_image,\n",
    "                              style_reference_image,\n",
    "                              combination_image], axis=0)\n",
    "\n",
    "model = vgg16.VGG16(input_tensor=input_tensor,\n",
    "                    weights='imagenet', include_top=False)\n",
    "print('Model loaded.')\n",
    "\n",
    "# get the symbolic outputs of each \"key\" layer (we gave them unique names).\n",
    "outputs_dict = dict([(layer.name, layer.output) for layer in model.layers])\n"
   ]
  },
  {
   "cell_type": "code",
   "execution_count": 7,
   "metadata": {
    "collapsed": true,
    "deletable": true,
    "editable": true
   },
   "outputs": [],
   "source": [
    "def gram_matrix(x):\n",
    "    assert K.ndim(x) == 3\n",
    "    features = K.batch_flatten(K.permute_dimensions(x, (2, 0, 1)))\n",
    "    gram = K.dot(features, K.transpose(features))\n",
    "    return gram\n",
    "\n",
    "# the \"style loss\" is designed to maintain\n",
    "# the style of the reference image in the generated image.\n",
    "# It is based on the gram matrices (which capture style) of\n",
    "# feature maps from the style reference image\n",
    "# and from the generated image\n",
    "\n",
    "\n",
    "def style_loss(style, combination):\n",
    "    assert K.ndim(style) == 3\n",
    "    assert K.ndim(combination) == 3\n",
    "    S = gram_matrix(style)\n",
    "    C = gram_matrix(combination)\n",
    "    channels = 3\n",
    "    size = img_nrows * img_ncols\n",
    "    return K.sum(K.square(S - C)) / (4. * (channels ** 2) * (size ** 2))\n",
    "\n",
    "# an auxiliary loss function\n",
    "# designed to maintain the \"content\" of the\n",
    "# base image in the generated image\n",
    "\n",
    "\n",
    "def content_loss(base, combination):\n",
    "    return K.sum(K.square(combination - base))\n",
    "\n",
    "# the 3rd loss function, total variation loss,\n",
    "# designed to keep the generated image locally coherent\n",
    "\n",
    "def total_variation_loss(x):\n",
    "    assert K.ndim(x) == 4\n",
    "    a = K.square(x[:, :img_nrows - 1, :img_ncols - 1, :] - x[:, 1:, :img_ncols - 1, :])\n",
    "    b = K.square(x[:, :img_nrows - 1, :img_ncols - 1, :] - x[:, :img_nrows - 1, 1:, :])\n",
    "    return K.sum(K.pow(a + b, 1.25))\n"
   ]
  },
  {
   "cell_type": "code",
   "execution_count": 8,
   "metadata": {
    "collapsed": true,
    "deletable": true,
    "editable": true
   },
   "outputs": [],
   "source": [
    "# combine these loss functions into a single scalar\n",
    "loss = K.variable(0.)\n",
    "layer_features = outputs_dict['block4_conv2']\n",
    "base_image_features = layer_features[0, :, :, :]\n",
    "combination_features = layer_features[2, :, :, :]\n",
    "loss += content_weight * content_loss(base_image_features,\n",
    "                                      combination_features)\n",
    "\n",
    "feature_layers = ['block1_conv1', 'block2_conv1',\n",
    "                  'block3_conv1', 'block4_conv1',\n",
    "                  'block5_conv1']\n",
    "for layer_name in feature_layers:\n",
    "    layer_features = outputs_dict[layer_name]\n",
    "    style_reference_features = layer_features[1, :, :, :]\n",
    "    combination_features = layer_features[2, :, :, :]\n",
    "    sl = style_loss(style_reference_features, combination_features)\n",
    "    loss += (style_weight / len(feature_layers)) * sl\n",
    "loss += total_variation_weight * total_variation_loss(combination_image)\n",
    "\n",
    "grads = K.gradients(loss, combination_image)\n"
   ]
  },
  {
   "cell_type": "code",
   "execution_count": 9,
   "metadata": {
    "collapsed": true,
    "deletable": true,
    "editable": true
   },
   "outputs": [],
   "source": [
    "outputs = [loss]\n",
    "if isinstance(grads, (list, tuple)):\n",
    "    outputs += grads\n",
    "else:\n",
    "    outputs.append(grads)\n",
    "\n",
    "f_outputs = K.function([combination_image], outputs)\n",
    "\n",
    "\n",
    "def eval_loss_and_grads(x):\n",
    "    if K.image_dim_ordering() == 'th':\n",
    "        x = x.reshape((1, 3, img_nrows, img_ncols))\n",
    "    else:\n",
    "        x = x.reshape((1, img_nrows, img_ncols, 3))\n",
    "    outs = f_outputs([x])\n",
    "    loss_value = outs[0]\n",
    "    if len(outs[1:]) == 1:\n",
    "        grad_values = outs[1].flatten().astype('float64')\n",
    "    else:\n",
    "        grad_values = np.array(outs[1:]).flatten().astype('float64')\n",
    "    return loss_value, grad_values\n"
   ]
  },
  {
   "cell_type": "code",
   "execution_count": 10,
   "metadata": {
    "collapsed": true,
    "deletable": true,
    "editable": true
   },
   "outputs": [],
   "source": [
    "class Evaluator(object):\n",
    "\n",
    "    def __init__(self):\n",
    "        self.loss_value = None\n",
    "        self.grads_values = None\n",
    "\n",
    "    def loss(self, x):\n",
    "        assert self.loss_value is None\n",
    "        loss_value, grad_values = eval_loss_and_grads(x)\n",
    "        self.loss_value = loss_value\n",
    "        self.grad_values = grad_values\n",
    "        return self.loss_value\n",
    "\n",
    "    def grads(self, x):\n",
    "        assert self.loss_value is not None\n",
    "        grad_values = np.copy(self.grad_values)\n",
    "        self.loss_value = None\n",
    "        self.grad_values = None\n",
    "        return grad_values\n",
    "\n",
    "evaluator = Evaluator()\n"
   ]
  },
  {
   "cell_type": "code",
   "execution_count": 11,
   "metadata": {
    "collapsed": false,
    "deletable": true,
    "editable": true
   },
   "outputs": [
    {
     "name": "stdout",
     "output_type": "stream",
     "text": [
      "Start of iteration 0\n",
      "Current loss value: 5.43646e+10\n",
      "Image saved as res_at_iteration_0.png\n",
      "Iteration 0 completed in 66s\n",
      "Start of iteration 1\n",
      "Current loss value: 4.24113e+10\n",
      "Image saved as res_at_iteration_1.png\n",
      "Iteration 1 completed in 49s\n",
      "Start of iteration 2\n",
      "Current loss value: 3.90617e+10\n",
      "Image saved as res_at_iteration_2.png\n",
      "Iteration 2 completed in 49s\n",
      "Start of iteration 3\n",
      "Current loss value: 3.73925e+10\n",
      "Image saved as res_at_iteration_3.png\n",
      "Iteration 3 completed in 49s\n",
      "Start of iteration 4\n",
      "Current loss value: 3.6333e+10\n",
      "Image saved as res_at_iteration_4.png\n",
      "Iteration 4 completed in 49s\n",
      "Start of iteration 5\n",
      "Current loss value: 3.55819e+10\n",
      "Image saved as res_at_iteration_5.png\n",
      "Iteration 5 completed in 49s\n",
      "Start of iteration 6\n",
      "Current loss value: 3.5034e+10\n",
      "Image saved as res_at_iteration_6.png\n",
      "Iteration 6 completed in 49s\n",
      "Start of iteration 7\n",
      "Current loss value: 3.46043e+10\n",
      "Image saved as res_at_iteration_7.png\n",
      "Iteration 7 completed in 49s\n",
      "Start of iteration 8\n",
      "Current loss value: 3.42575e+10\n",
      "Image saved as res_at_iteration_8.png\n",
      "Iteration 8 completed in 49s\n",
      "Start of iteration 9\n",
      "Current loss value: 3.39767e+10\n",
      "Image saved as res_at_iteration_9.png\n",
      "Iteration 9 completed in 49s\n",
      "Start of iteration 10\n",
      "Current loss value: 3.37476e+10\n",
      "Image saved as res_at_iteration_10.png\n",
      "Iteration 10 completed in 49s\n",
      "Start of iteration 11\n",
      "Current loss value: 3.35573e+10\n",
      "Image saved as res_at_iteration_11.png\n",
      "Iteration 11 completed in 49s\n",
      "Start of iteration 12\n",
      "Current loss value: 3.33986e+10\n",
      "Image saved as res_at_iteration_12.png\n",
      "Iteration 12 completed in 49s\n",
      "Start of iteration 13\n",
      "Current loss value: 3.32608e+10\n",
      "Image saved as res_at_iteration_13.png\n",
      "Iteration 13 completed in 49s\n",
      "Start of iteration 14\n",
      "Current loss value: 3.31418e+10\n",
      "Image saved as res_at_iteration_14.png\n",
      "Iteration 14 completed in 49s\n",
      "Start of iteration 15\n",
      "Current loss value: 3.3036e+10\n",
      "Image saved as res_at_iteration_15.png\n",
      "Iteration 15 completed in 49s\n",
      "Start of iteration 16\n",
      "Current loss value: 3.29394e+10\n",
      "Image saved as res_at_iteration_16.png\n",
      "Iteration 16 completed in 50s\n",
      "Start of iteration 17\n",
      "Current loss value: 3.28538e+10\n",
      "Image saved as res_at_iteration_17.png\n",
      "Iteration 17 completed in 49s\n",
      "Start of iteration 18\n",
      "Current loss value: 3.2778e+10\n",
      "Image saved as res_at_iteration_18.png\n",
      "Iteration 18 completed in 50s\n",
      "Start of iteration 19\n",
      "Current loss value: 3.27109e+10\n",
      "Image saved as res_at_iteration_19.png\n",
      "Iteration 19 completed in 50s\n",
      "Start of iteration 20\n",
      "Current loss value: 3.26501e+10\n",
      "Image saved as res_at_iteration_20.png\n",
      "Iteration 20 completed in 49s\n",
      "Start of iteration 21\n",
      "Current loss value: 3.25971e+10\n",
      "Image saved as res_at_iteration_21.png\n",
      "Iteration 21 completed in 50s\n",
      "Start of iteration 22\n",
      "Current loss value: 3.25491e+10\n",
      "Image saved as res_at_iteration_22.png\n",
      "Iteration 22 completed in 50s\n",
      "Start of iteration 23\n",
      "Current loss value: 3.25057e+10\n",
      "Image saved as res_at_iteration_23.png\n",
      "Iteration 23 completed in 50s\n",
      "Start of iteration 24\n",
      "Current loss value: 3.24663e+10\n",
      "Image saved as res_at_iteration_24.png\n",
      "Iteration 24 completed in 50s\n",
      "Start of iteration 25\n",
      "Current loss value: 3.24304e+10\n",
      "Image saved as res_at_iteration_25.png\n",
      "Iteration 25 completed in 50s\n",
      "Start of iteration 26\n",
      "Current loss value: 3.23983e+10\n",
      "Image saved as res_at_iteration_26.png\n",
      "Iteration 26 completed in 50s\n",
      "Start of iteration 27\n",
      "Current loss value: 3.23695e+10\n",
      "Image saved as res_at_iteration_27.png\n",
      "Iteration 27 completed in 50s\n",
      "Start of iteration 28\n",
      "Current loss value: 3.2344e+10\n",
      "Image saved as res_at_iteration_28.png\n",
      "Iteration 28 completed in 50s\n",
      "Start of iteration 29\n",
      "Current loss value: 3.23207e+10\n",
      "Image saved as res_at_iteration_29.png\n",
      "Iteration 29 completed in 50s\n"
     ]
    }
   ],
   "source": [
    "x = np.random.uniform(0, 255, (1, img_nrows, img_ncols, 3)) - 128.\n",
    "\n",
    "for i in range(iterations):\n",
    "    print('Start of iteration', i)\n",
    "    start_time = time.time()\n",
    "    x, min_val, info = fmin_l_bfgs_b(evaluator.loss, x.flatten(),\n",
    "                                     fprime=evaluator.grads, maxfun=20)\n",
    "    print('Current loss value:', min_val)\n",
    "    # save current generated image\n",
    "    img = deprocess_image(x.copy())\n",
    "    fname = result_prefix + '_at_iteration_%d.png' % i\n",
    "    imsave(fname, img)\n",
    "    end_time = time.time()\n",
    "    print('Image saved as', fname)\n",
    "    print('Iteration %d completed in %ds' % (i, end_time - start_time))\n"
   ]
  },
  {
   "cell_type": "code",
   "execution_count": null,
   "metadata": {
    "collapsed": true,
    "deletable": true,
    "editable": true
   },
   "outputs": [],
   "source": []
  }
 ],
 "metadata": {
  "anaconda-cloud": {},
  "kernelspec": {
   "display_name": "Python [default]",
   "language": "python",
   "name": "python2"
  },
  "language_info": {
   "codemirror_mode": {
    "name": "ipython",
    "version": 2
   },
   "file_extension": ".py",
   "mimetype": "text/x-python",
   "name": "python",
   "nbconvert_exporter": "python",
   "pygments_lexer": "ipython2",
   "version": "2.7.12"
  }
 },
 "nbformat": 4,
 "nbformat_minor": 1
}
